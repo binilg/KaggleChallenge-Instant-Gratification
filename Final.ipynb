{
 "cells": [
  {
   "cell_type": "code",
   "execution_count": 50,
   "metadata": {},
   "outputs": [],
   "source": [
    "import numpy as np, pandas as pd, os\n",
    "from sklearn.discriminant_analysis import QuadraticDiscriminantAnalysis, LinearDiscriminantAnalysis\n",
    "from sklearn.feature_selection import VarianceThreshold\n",
    "from sklearn.model_selection import StratifiedKFold, KFold\n",
    "from sklearn.metrics import roc_auc_score\n",
    "from tqdm import tqdm_notebook\n",
    "from sklearn.covariance import EmpiricalCovariance\n",
    "from sklearn.preprocessing import StandardScaler\n",
    "from sklearn.decomposition import PCA\n",
    "import sympy \n",
    "from sklearn.mixture import GaussianMixture\n",
    "from tqdm import tqdm\n",
    "from sklearn.preprocessing import StandardScaler, PolynomialFeatures\n",
    "from sklearn.semi_supervised import LabelSpreading\n",
    "from sklearn.linear_model import LogisticRegression\n",
    "from sklearn import svm,linear_model, neural_network\n",
    "import warnings\n",
    "from sklearn.svm import NuSVC\n",
    "warnings.filterwarnings(\"ignore\")\n",
    "import matplotlib.pyplot as plt\n",
    "import lightgbm as lgb\n",
    "from sklearn.isotonic import IsotonicRegression\n",
    "import pickle\n",
    "from sklearn.linear_model import LinearRegression"
   ]
  },
  {
   "cell_type": "code",
   "execution_count": null,
   "metadata": {},
   "outputs": [],
   "source": [
    "'''\n",
    "use train_clean everywhere\n",
    "'''"
   ]
  },
  {
   "cell_type": "code",
   "execution_count": 9,
   "metadata": {},
   "outputs": [],
   "source": [
    "with open('prediction.pkl', 'rb') as f:\n",
    "    preds = pickle.load(f)"
   ]
  },
  {
   "cell_type": "code",
   "execution_count": 10,
   "metadata": {},
   "outputs": [
    {
     "data": {
      "text/plain": [
       "262144"
      ]
     },
     "execution_count": 10,
     "metadata": {},
     "output_type": "execute_result"
    }
   ],
   "source": [
    "len(preds)"
   ]
  },
  {
   "cell_type": "code",
   "execution_count": 11,
   "metadata": {},
   "outputs": [
    {
     "data": {
      "text/plain": [
       "array([0.80663452, 0.99999825, 0.02839745, ..., 0.99349751, 0.08457693,\n",
       "       0.94485286])"
      ]
     },
     "execution_count": 11,
     "metadata": {},
     "output_type": "execute_result"
    }
   ],
   "source": [
    "preds"
   ]
  },
  {
   "cell_type": "code",
   "execution_count": 12,
   "metadata": {},
   "outputs": [],
   "source": [
    "pred = preds[:131073]"
   ]
  },
  {
   "cell_type": "code",
   "execution_count": 13,
   "metadata": {},
   "outputs": [
    {
     "data": {
      "text/plain": [
       "(array([44065.,  7980.,  3753.,  3345.,  1710.,  1650.,  1480.,  1300.,\n",
       "         1173., 64617.]),\n",
       " array([0.0150663 , 0.11355967, 0.21205304, 0.31054641, 0.40903978,\n",
       "        0.50753315, 0.60602652, 0.70451989, 0.80301326, 0.90150663,\n",
       "        1.        ]),\n",
       " <a list of 10 Patch objects>)"
      ]
     },
     "execution_count": 13,
     "metadata": {},
     "output_type": "execute_result"
    },
    {
     "data": {
      "image/png": "[encoded data removed]",
      "text/plain": [
       "<Figure size 432x288 with 1 Axes>"
      ]
     },
     "metadata": {
      "needs_background": "light"
     },
     "output_type": "display_data"
    }
   ],
   "source": [
    "plt.hist(pred)"
   ]
  },
  {
   "cell_type": "code",
   "execution_count": 14,
   "metadata": {},
   "outputs": [
    {
     "data": {
      "text/plain": [
       "(0,)"
      ]
     },
     "execution_count": 14,
     "metadata": {},
     "output_type": "execute_result"
    }
   ],
   "source": [
    "pred[pred>1].shape"
   ]
  },
  {
   "cell_type": "code",
   "execution_count": 15,
   "metadata": {},
   "outputs": [
    {
     "data": {
      "text/plain": [
       "(0,)"
      ]
     },
     "execution_count": 15,
     "metadata": {},
     "output_type": "execute_result"
    }
   ],
   "source": [
    "pred[pred<0].shape"
   ]
  },
  {
   "cell_type": "code",
   "execution_count": 16,
   "metadata": {},
   "outputs": [
    {
     "data": {
      "text/plain": [
       "(41027,)"
      ]
     },
     "execution_count": 16,
     "metadata": {},
     "output_type": "execute_result"
    }
   ],
   "source": [
    "pred[pred<0.1].shape"
   ]
  },
  {
   "cell_type": "code",
   "execution_count": 17,
   "metadata": {},
   "outputs": [
    {
     "data": {
      "text/plain": [
       "'\\nincrease label spreading kfold = 25 before final submission\\nGM done use 11 kfold for final submission\\nlabel encoding done\\nqda done\\nNuSvC takes a lot of time. Avoid if possible\\n'"
      ]
     },
     "execution_count": 17,
     "metadata": {},
     "output_type": "execute_result"
    }
   ],
   "source": [
    "'''\n",
    "increase label spreading kfold = 25 before final submission\n",
    "GM done use 11 kfold for final submission\n",
    "label encoding done\n",
    "qda done\n",
    "NuSvC takes a lot of time. Avoid if possible\n",
    "'''"
   ]
  },
  {
   "cell_type": "code",
   "execution_count": 18,
   "metadata": {},
   "outputs": [],
   "source": [
    "train = pd.read_csv('train.csv')\n",
    "test = pd.read_csv('test.csv')\n",
    "#train = pd.read_csv('../input/train.csv')\n",
    "#test = pd.read_csv('../input/test.csv')"
   ]
  },
  {
   "cell_type": "code",
   "execution_count": 19,
   "metadata": {},
   "outputs": [],
   "source": [
    "saved_targets = train['target']"
   ]
  },
  {
   "cell_type": "code",
   "execution_count": 20,
   "metadata": {},
   "outputs": [],
   "source": [
    "oof_gm = np.zeros(len(train)) \n",
    "pred_te_gm = np.zeros(len(test))\n",
    "\n",
    "oof_svnu = np.zeros(len(train)) \n",
    "pred_te_svnu = np.zeros(len(test))\n",
    "\n",
    "oof_knn = np.zeros(len(train)) \n",
    "pred_te_knn = np.zeros(len(test))\n",
    "\n",
    "oof_mlp = np.zeros(len(train)) \n",
    "pred_te_mlp = np.zeros(len(test))\n",
    "\n",
    "oof_qdp = np.zeros(len(train)) \n",
    "pred_te_qdp = np.zeros(len(test))\n",
    "\n",
    "oof_qlr = np.zeros(len(train)) \n",
    "pred_te_qlr = np.zeros(len(test))\n",
    "\n",
    "oof_outside_blend = np.zeros(len(train)) \n",
    "pred_te_outside_blend = np.zeros(len(test))\n",
    "\n",
    "oof_stack = np.zeros(len(train)) \n",
    "pred_te_stack = np.zeros(len(test))\n",
    "\n",
    "oof_lr = np.zeros(len(train)) \n",
    "pred_te_lr = np.zeros(len(test))\n",
    "\n",
    "oof_ls = np.zeros(len(train)) \n",
    "pred_te_ls = np.zeros(len(test))\n",
    "\n",
    "oof_svc = np.zeros(len(train)) \n",
    "pred_te_svc = np.zeros(len(test))\n",
    "\n",
    "oof_train = np.zeros(len(train)) \n",
    "pred_te_test = np.zeros(len(test))\n",
    "\n",
    "cols = [c for c in train.columns if c not in ['id', 'target', 'wheezy-copper-turtle-magic']]"
   ]
  },
  {
   "cell_type": "code",
   "execution_count": 21,
   "metadata": {},
   "outputs": [
    {
     "data": {
      "application/vnd.jupyter.widget-view+json": {
       "model_id": "16f8ef7ff8544fea825e4fe91e4b0109",
       "version_major": 2,
       "version_minor": 0
      },
      "text/plain": [
       "HBox(children=(IntProgress(value=0, max=512), HTML(value='')))"
      ]
     },
     "metadata": {},
     "output_type": "display_data"
    },
    {
     "name": "stdout",
     "output_type": "stream",
     "text": [
      "Starting the modelling\n",
      "\n",
      "ROC for training =  0.9661273000871955\n",
      "0.050251007080078125\n"
     ]
    }
   ],
   "source": [
    "#this is for identifying pseudo labels\n",
    "for i in tqdm_notebook(range(512)):#range(512):\n",
    "    if (i==0):\n",
    "        print(\"Starting the modelling\")\n",
    "    train2 = train[train['wheezy-copper-turtle-magic']==i]\n",
    "    test2 = test[test['wheezy-copper-turtle-magic']==i]\n",
    "    idx1 = train2.index; idx2 = test2.index\n",
    "    \n",
    "    y = train2.loc[idx1]['target']\n",
    "    train2.reset_index(drop=True,inplace=True)\n",
    "\n",
    "    sel = VarianceThreshold(threshold=1.5)\n",
    "    train3 = sel.fit_transform(train2[cols])  \n",
    "    test3 = sel.transform(test2[cols])\n",
    "\n",
    "    # STRATIFIED K-FOLD #reg_param = 0.25 and n_splits = 7 variance threshold = 1.5 so far best\n",
    "    skf = StratifiedKFold(n_splits=31, random_state=42, shuffle=True)\n",
    "    for train_index, test_index in skf.split(train3, train2['target']):\n",
    "        \n",
    "        # MODEL AND PREDICT WITH QDA\n",
    "        clf = QuadraticDiscriminantAnalysis(reg_param=0.5)\n",
    "        clf.fit(train3[train_index,:],train2.loc[train_index]['target'])\n",
    "        oof_train[idx1[test_index]] = clf.predict_proba(train3[test_index,:])[:,1]\n",
    "        pred_te_test[idx2] += clf.predict_proba(test3)[:,1] / skf.n_splits\n",
    "        \n",
    "print(\"ROC for training = \",roc_auc_score(train['target'],oof_train))\n",
    "print(len(train.loc[abs(train['target']-oof_train)>0.9,'target'])/len(train))"
   ]
  },
  {
   "cell_type": "code",
   "execution_count": 22,
   "metadata": {},
   "outputs": [
    {
     "data": {
      "text/plain": [
       "(8194, 258)"
      ]
     },
     "execution_count": 22,
     "metadata": {},
     "output_type": "execute_result"
    }
   ],
   "source": [
    "train[(oof_train > 0.2) & (oof_train < 0.8)].shape"
   ]
  },
  {
   "cell_type": "code",
   "execution_count": 23,
   "metadata": {},
   "outputs": [
    {
     "data": {
      "text/plain": [
       "(262144, 258)"
      ]
     },
     "execution_count": 23,
     "metadata": {},
     "output_type": "execute_result"
    }
   ],
   "source": [
    "train.shape"
   ]
  },
  {
   "cell_type": "code",
   "execution_count": 24,
   "metadata": {},
   "outputs": [],
   "source": [
    "train_clean = train[(oof_train <= 0.4 ) | (oof_train >= 0.6)]\n",
    "train_clean.reset_index(drop=True,inplace=True)"
   ]
  },
  {
   "cell_type": "code",
   "execution_count": 25,
   "metadata": {},
   "outputs": [
    {
     "data": {
      "text/plain": [
       "(255696, 258)"
      ]
     },
     "execution_count": 25,
     "metadata": {},
     "output_type": "execute_result"
    }
   ],
   "source": [
    "train_clean.shape"
   ]
  },
  {
   "cell_type": "code",
   "execution_count": 26,
   "metadata": {},
   "outputs": [],
   "source": [
    "from sklearn.covariance import GraphicalLasso\n",
    "\n",
    "def get_mean_cov(x,y):\n",
    "    model = GraphicalLasso()\n",
    "    ones = (y==1).astype(bool)\n",
    "    x2 = x[ones]\n",
    "    model.fit(x2)\n",
    "    p1 = model.precision_\n",
    "    m1 = model.location_\n",
    "    \n",
    "    onesb = (y==0).astype(bool)\n",
    "    x2b = x[onesb]\n",
    "    model.fit(x2b)\n",
    "    p2 = model.precision_\n",
    "    m2 = model.location_\n",
    "    \n",
    "    ms = np.stack([m1,m2])\n",
    "    ps = np.stack([p1,p2])\n",
    "    return ms,ps"
   ]
  },
  {
   "cell_type": "code",
   "execution_count": 30,
   "metadata": {
    "scrolled": true
   },
   "outputs": [
    {
     "data": {
      "application/vnd.jupyter.widget-view+json": {
       "model_id": "5c16b459550a47a8a621e27dc913d447",
       "version_major": 2,
       "version_minor": 0
      },
      "text/plain": [
       "HBox(children=(IntProgress(value=0, max=512), HTML(value='')))"
      ]
     },
     "metadata": {},
     "output_type": "display_data"
    },
    {
     "ename": "KeyboardInterrupt",
     "evalue": "",
     "output_type": "error",
     "traceback": [
      "\u001b[1;31m---------------------------------------------------------------------------\u001b[0m",
      "\u001b[1;31mKeyboardInterrupt\u001b[0m                         Traceback (most recent call last)",
      "\u001b[1;32m<ipython-input-30-decb38284890>\u001b[0m in \u001b[0;36m<module>\u001b[1;34m\u001b[0m\n\u001b[0;32m     31\u001b[0m         \u001b[1;31m#test_index3 = test_index[ test_index<len(train2)] # ignore psuedo in oof\u001b[0m\u001b[1;33m\u001b[0m\u001b[1;33m\u001b[0m\u001b[1;33m\u001b[0m\u001b[0m\n\u001b[0;32m     32\u001b[0m         \u001b[1;31m# MODEL AND PREDICT WITH QDA\u001b[0m\u001b[1;33m\u001b[0m\u001b[1;33m\u001b[0m\u001b[1;33m\u001b[0m\u001b[0m\n\u001b[1;32m---> 33\u001b[1;33m         \u001b[0mms\u001b[0m\u001b[1;33m,\u001b[0m \u001b[0mps\u001b[0m\u001b[1;33m=\u001b[0m \u001b[0mget_mean_cov\u001b[0m\u001b[1;33m(\u001b[0m\u001b[0mtrain3\u001b[0m\u001b[1;33m[\u001b[0m\u001b[0mtrain_index\u001b[0m\u001b[1;33m,\u001b[0m\u001b[1;33m:\u001b[0m\u001b[1;33m]\u001b[0m\u001b[1;33m,\u001b[0m\u001b[0mtrain2\u001b[0m\u001b[1;33m.\u001b[0m\u001b[0mloc\u001b[0m\u001b[1;33m[\u001b[0m\u001b[0mtrain_index\u001b[0m\u001b[1;33m]\u001b[0m\u001b[1;33m[\u001b[0m\u001b[1;34m'target'\u001b[0m\u001b[1;33m]\u001b[0m\u001b[1;33m.\u001b[0m\u001b[0mvalues\u001b[0m\u001b[1;33m)\u001b[0m\u001b[1;33m\u001b[0m\u001b[1;33m\u001b[0m\u001b[0m\n\u001b[0m\u001b[0;32m     34\u001b[0m         \u001b[0mclf\u001b[0m \u001b[1;33m=\u001b[0m \u001b[0mGaussianMixture\u001b[0m\u001b[1;33m(\u001b[0m\u001b[0mn_components\u001b[0m\u001b[1;33m=\u001b[0m\u001b[1;36m2\u001b[0m\u001b[1;33m,\u001b[0m \u001b[0minit_params\u001b[0m\u001b[1;33m=\u001b[0m\u001b[1;34m'random'\u001b[0m\u001b[1;33m,\u001b[0m \u001b[0mcovariance_type\u001b[0m\u001b[1;33m=\u001b[0m\u001b[1;34m'full'\u001b[0m\u001b[1;33m,\u001b[0m \u001b[0mtol\u001b[0m\u001b[1;33m=\u001b[0m\u001b[1;36m0.0001\u001b[0m\u001b[1;33m,\u001b[0m\u001b[0mreg_covar\u001b[0m\u001b[1;33m=\u001b[0m\u001b[1;36m0.001\u001b[0m\u001b[1;33m,\u001b[0m \u001b[0mmax_iter\u001b[0m\u001b[1;33m=\u001b[0m\u001b[1;36m100\u001b[0m\u001b[1;33m,\u001b[0m \u001b[0mn_init\u001b[0m\u001b[1;33m=\u001b[0m\u001b[1;36m1\u001b[0m\u001b[1;33m,\u001b[0m\u001b[0mmeans_init\u001b[0m\u001b[1;33m=\u001b[0m\u001b[0mms\u001b[0m\u001b[1;33m,\u001b[0m \u001b[0mprecisions_init\u001b[0m\u001b[1;33m=\u001b[0m\u001b[0mps\u001b[0m\u001b[1;33m,\u001b[0m\u001b[0mverbose\u001b[0m\u001b[1;33m=\u001b[0m\u001b[1;32mFalse\u001b[0m\u001b[1;33m)\u001b[0m\u001b[1;33m\u001b[0m\u001b[1;33m\u001b[0m\u001b[0m\n\u001b[0;32m     35\u001b[0m         \u001b[0mclf\u001b[0m\u001b[1;33m.\u001b[0m\u001b[0mfit\u001b[0m\u001b[1;33m(\u001b[0m\u001b[0mnp\u001b[0m\u001b[1;33m.\u001b[0m\u001b[0mconcatenate\u001b[0m\u001b[1;33m(\u001b[0m\u001b[1;33m[\u001b[0m\u001b[0mtrain3\u001b[0m\u001b[1;33m[\u001b[0m\u001b[0mtrain_index\u001b[0m\u001b[1;33m,\u001b[0m\u001b[1;33m:\u001b[0m\u001b[1;33m]\u001b[0m\u001b[1;33m,\u001b[0m\u001b[0mtest3\u001b[0m\u001b[1;33m]\u001b[0m\u001b[1;33m,\u001b[0m\u001b[0maxis\u001b[0m \u001b[1;33m=\u001b[0m \u001b[1;36m0\u001b[0m\u001b[1;33m)\u001b[0m\u001b[1;33m)\u001b[0m\u001b[1;33m\u001b[0m\u001b[1;33m\u001b[0m\u001b[0m\n",
      "\u001b[1;32m<ipython-input-26-255f5224e406>\u001b[0m in \u001b[0;36mget_mean_cov\u001b[1;34m(x, y)\u001b[0m\n\u001b[0;32m     11\u001b[0m     \u001b[0monesb\u001b[0m \u001b[1;33m=\u001b[0m \u001b[1;33m(\u001b[0m\u001b[0my\u001b[0m\u001b[1;33m==\u001b[0m\u001b[1;36m0\u001b[0m\u001b[1;33m)\u001b[0m\u001b[1;33m.\u001b[0m\u001b[0mastype\u001b[0m\u001b[1;33m(\u001b[0m\u001b[0mbool\u001b[0m\u001b[1;33m)\u001b[0m\u001b[1;33m\u001b[0m\u001b[1;33m\u001b[0m\u001b[0m\n\u001b[0;32m     12\u001b[0m     \u001b[0mx2b\u001b[0m \u001b[1;33m=\u001b[0m \u001b[0mx\u001b[0m\u001b[1;33m[\u001b[0m\u001b[0monesb\u001b[0m\u001b[1;33m]\u001b[0m\u001b[1;33m\u001b[0m\u001b[1;33m\u001b[0m\u001b[0m\n\u001b[1;32m---> 13\u001b[1;33m     \u001b[0mmodel\u001b[0m\u001b[1;33m.\u001b[0m\u001b[0mfit\u001b[0m\u001b[1;33m(\u001b[0m\u001b[0mx2b\u001b[0m\u001b[1;33m)\u001b[0m\u001b[1;33m\u001b[0m\u001b[1;33m\u001b[0m\u001b[0m\n\u001b[0m\u001b[0;32m     14\u001b[0m     \u001b[0mp2\u001b[0m \u001b[1;33m=\u001b[0m \u001b[0mmodel\u001b[0m\u001b[1;33m.\u001b[0m\u001b[0mprecision_\u001b[0m\u001b[1;33m\u001b[0m\u001b[1;33m\u001b[0m\u001b[0m\n\u001b[0;32m     15\u001b[0m     \u001b[0mm2\u001b[0m \u001b[1;33m=\u001b[0m \u001b[0mmodel\u001b[0m\u001b[1;33m.\u001b[0m\u001b[0mlocation_\u001b[0m\u001b[1;33m\u001b[0m\u001b[1;33m\u001b[0m\u001b[0m\n",
      "\u001b[1;32m~\\AppData\\Local\\Continuum\\anaconda3\\lib\\site-packages\\sklearn\\covariance\\graph_lasso_.py\u001b[0m in \u001b[0;36mfit\u001b[1;34m(self, X, y)\u001b[0m\n\u001b[0;32m    368\u001b[0m             \u001b[0memp_cov\u001b[0m\u001b[1;33m,\u001b[0m \u001b[0malpha\u001b[0m\u001b[1;33m=\u001b[0m\u001b[0mself\u001b[0m\u001b[1;33m.\u001b[0m\u001b[0malpha\u001b[0m\u001b[1;33m,\u001b[0m \u001b[0mmode\u001b[0m\u001b[1;33m=\u001b[0m\u001b[0mself\u001b[0m\u001b[1;33m.\u001b[0m\u001b[0mmode\u001b[0m\u001b[1;33m,\u001b[0m \u001b[0mtol\u001b[0m\u001b[1;33m=\u001b[0m\u001b[0mself\u001b[0m\u001b[1;33m.\u001b[0m\u001b[0mtol\u001b[0m\u001b[1;33m,\u001b[0m\u001b[1;33m\u001b[0m\u001b[1;33m\u001b[0m\u001b[0m\n\u001b[0;32m    369\u001b[0m             \u001b[0menet_tol\u001b[0m\u001b[1;33m=\u001b[0m\u001b[0mself\u001b[0m\u001b[1;33m.\u001b[0m\u001b[0menet_tol\u001b[0m\u001b[1;33m,\u001b[0m \u001b[0mmax_iter\u001b[0m\u001b[1;33m=\u001b[0m\u001b[0mself\u001b[0m\u001b[1;33m.\u001b[0m\u001b[0mmax_iter\u001b[0m\u001b[1;33m,\u001b[0m\u001b[1;33m\u001b[0m\u001b[1;33m\u001b[0m\u001b[0m\n\u001b[1;32m--> 370\u001b[1;33m             verbose=self.verbose, return_n_iter=True)\n\u001b[0m\u001b[0;32m    371\u001b[0m         \u001b[1;32mreturn\u001b[0m \u001b[0mself\u001b[0m\u001b[1;33m\u001b[0m\u001b[1;33m\u001b[0m\u001b[0m\n\u001b[0;32m    372\u001b[0m \u001b[1;33m\u001b[0m\u001b[0m\n",
      "\u001b[1;32m~\\AppData\\Local\\Continuum\\anaconda3\\lib\\site-packages\\sklearn\\covariance\\graph_lasso_.py\u001b[0m in \u001b[0;36mgraphical_lasso\u001b[1;34m(emp_cov, alpha, cov_init, mode, tol, enet_tol, max_iter, verbose, return_costs, eps, return_n_iter)\u001b[0m\n\u001b[0;32m    226\u001b[0m                             \u001b[0mcoefs\u001b[0m\u001b[1;33m,\u001b[0m \u001b[0malpha\u001b[0m\u001b[1;33m,\u001b[0m \u001b[1;36m0\u001b[0m\u001b[1;33m,\u001b[0m \u001b[0msub_covariance\u001b[0m\u001b[1;33m,\u001b[0m\u001b[1;33m\u001b[0m\u001b[1;33m\u001b[0m\u001b[0m\n\u001b[0;32m    227\u001b[0m                             \u001b[0mrow\u001b[0m\u001b[1;33m,\u001b[0m \u001b[0mrow\u001b[0m\u001b[1;33m,\u001b[0m \u001b[0mmax_iter\u001b[0m\u001b[1;33m,\u001b[0m \u001b[0menet_tol\u001b[0m\u001b[1;33m,\u001b[0m\u001b[1;33m\u001b[0m\u001b[1;33m\u001b[0m\u001b[0m\n\u001b[1;32m--> 228\u001b[1;33m                             check_random_state(None), False)\n\u001b[0m\u001b[0;32m    229\u001b[0m                     \u001b[1;32melse\u001b[0m\u001b[1;33m:\u001b[0m\u001b[1;33m\u001b[0m\u001b[1;33m\u001b[0m\u001b[0m\n\u001b[0;32m    230\u001b[0m                         \u001b[1;31m# Use LARS\u001b[0m\u001b[1;33m\u001b[0m\u001b[1;33m\u001b[0m\u001b[1;33m\u001b[0m\u001b[0m\n",
      "\u001b[1;32msklearn\\linear_model\\cd_fast.pyx\u001b[0m in \u001b[0;36msklearn.linear_model.cd_fast.enet_coordinate_descent_gram\u001b[1;34m()\u001b[0m\n",
      "\u001b[1;32m~\\AppData\\Local\\Continuum\\anaconda3\\lib\\site-packages\\numpy\\core\\numeric.py\u001b[0m in \u001b[0;36masarray\u001b[1;34m(a, dtype, order)\u001b[0m\n\u001b[0;32m    467\u001b[0m \u001b[1;33m\u001b[0m\u001b[0m\n\u001b[0;32m    468\u001b[0m \u001b[1;33m\u001b[0m\u001b[0m\n\u001b[1;32m--> 469\u001b[1;33m \u001b[1;33m@\u001b[0m\u001b[0mset_module\u001b[0m\u001b[1;33m(\u001b[0m\u001b[1;34m'numpy'\u001b[0m\u001b[1;33m)\u001b[0m\u001b[1;33m\u001b[0m\u001b[1;33m\u001b[0m\u001b[0m\n\u001b[0m\u001b[0;32m    470\u001b[0m \u001b[1;32mdef\u001b[0m \u001b[0masarray\u001b[0m\u001b[1;33m(\u001b[0m\u001b[0ma\u001b[0m\u001b[1;33m,\u001b[0m \u001b[0mdtype\u001b[0m\u001b[1;33m=\u001b[0m\u001b[1;32mNone\u001b[0m\u001b[1;33m,\u001b[0m \u001b[0morder\u001b[0m\u001b[1;33m=\u001b[0m\u001b[1;32mNone\u001b[0m\u001b[1;33m)\u001b[0m\u001b[1;33m:\u001b[0m\u001b[1;33m\u001b[0m\u001b[1;33m\u001b[0m\u001b[0m\n\u001b[0;32m    471\u001b[0m     \"\"\"Convert the input to an array.\n",
      "\u001b[1;31mKeyboardInterrupt\u001b[0m: "
     ]
    }
   ],
   "source": [
    "#GaussianMixture this is without pseudo labeling\n",
    "# BUILD 512 SEPARATE MODELS\n",
    "saved_targets = train_clean['target']\n",
    "test[\"target\"] = pred\n",
    "oof_gm = np.zeros(len(train_clean)) \n",
    "pred_te_gm = np.zeros(len(test))\n",
    "for i in tqdm_notebook(range(512)):\n",
    "    # ONLY TRAIN WITH DATA WHERE WHEEZY EQUALS I\n",
    "    train2 = train_clean[train['wheezy-copper-turtle-magic']==i]\n",
    "    test2 = test[test['wheezy-copper-turtle-magic']==i]\n",
    "    idx1 = train2.index; idx2 = test2.index\n",
    "    train2.reset_index(drop=True,inplace=True)\n",
    "    \n",
    "    # FEATURE SELECTION (USE APPROX 40 OF 255 FEATURES)\n",
    "    sel = VarianceThreshold(threshold=1.5).fit(train2[cols])\n",
    "    train3 = sel.transform(train2[cols])\n",
    "    test3 = sel.transform(test2[cols])\n",
    "    \n",
    "    # STRATIFIED K-FOLD\n",
    "    skf = StratifiedKFold(n_splits=3, random_state=42, shuffle=True)\n",
    "    for train_index, test_index in skf.split(train3, train2['target']):\n",
    "        #test_index3 = test_index[ test_index<len(train2)] # ignore psuedo in oof\n",
    "        # MODEL AND PREDICT WITH QDA\n",
    "        ms, ps= get_mean_cov(train3[train_index,:],train2.loc[train_index]['target'].values)      \n",
    "        clf = GaussianMixture(n_components=2, init_params='random', covariance_type='full', tol=0.0001,reg_covar=0.001, max_iter=100, n_init=1,means_init=ms, precisions_init=ps,verbose=False)\n",
    "        clf.fit(np.concatenate([train3[train_index,:],test3],axis = 0))\n",
    "        oof_gm[idx1[test_index]] = clf.predict_proba(train3[test_index,:])[:,0]\n",
    "        pred_te_gm[idx2] += clf.predict_proba(test3)[:,0] / skf.n_splits"
   ]
  },
  {
   "cell_type": "code",
   "execution_count": 31,
   "metadata": {},
   "outputs": [
    {
     "name": "stdout",
     "output_type": "stream",
     "text": [
      "Pseudo Labeled GM scores CV = 0.50418269\n"
     ]
    }
   ],
   "source": [
    "auc = roc_auc_score(saved_targets,oof_gm)\n",
    "print('Pseudo Labeled GM scores CV =',round(auc,8)) "
   ]
  },
  {
   "cell_type": "code",
   "execution_count": 32,
   "metadata": {},
   "outputs": [
    {
     "data": {
      "application/vnd.jupyter.widget-view+json": {
       "model_id": "b31b9d1a0a054d77adbf61c992874e28",
       "version_major": 2,
       "version_minor": 0
      },
      "text/plain": [
       "HBox(children=(IntProgress(value=0, max=512), HTML(value='')))"
      ]
     },
     "metadata": {},
     "output_type": "display_data"
    }
   ],
   "source": [
    "#QDA this is with pseudo labeling\n",
    "# BUILD 512 SEPARATE MODELS\n",
    "saved_targets = train_clean['target']\n",
    "test[\"target\"] = pred\n",
    "oof_qdp = np.zeros(len(train_clean)) \n",
    "pred_te_qdp = np.zeros(len(test))\n",
    "for k in tqdm_notebook(range(512)):\n",
    "    # ONLY TRAIN WITH DATA WHERE WHEEZY EQUALS I\n",
    "    train_1 = train[train['wheezy-copper-turtle-magic']==k] \n",
    "    train2 = train_clean[train_clean['wheezy-copper-turtle-magic']==k] \n",
    "    train2p = train2.copy(); idx1 = train2.index \n",
    "    test2 = test[test['wheezy-copper-turtle-magic']==k]\n",
    "    #train_1.reset_index(drop=True,inplace=True)\n",
    "    # ADD PSEUDO LABEL DATA\n",
    "    test2p = test2[ (test2['target']<=0.2) | (test2['target']>=0.9) ].copy()#.9999 and 0.0001 gives 0.97046394\n",
    "    test2p.loc[ test2p['target']>=0.5, 'target' ] = 1\n",
    "    test2p.loc[ test2p['target']<0.5, 'target' ] = 0 \n",
    "    train2p = pd.concat([train2p,test2p],axis=0)\n",
    "    train2p.reset_index(drop=True,inplace=True)\n",
    "    \n",
    "    # FEATURE SELECTION (USE APPROX 40 OF 255 FEATURES)\n",
    "    sel = VarianceThreshold(threshold=1.5).fit(train2p[cols])     \n",
    "    train3p = sel.transform(train2p[cols])\n",
    "    train3 = sel.transform(train2[cols])\n",
    "    test3 = sel.transform(test2[cols])\n",
    "        \n",
    "    # STRATIFIED K FOLD\n",
    "    skf = StratifiedKFold(n_splits=31, random_state=42, shuffle=True)\n",
    "    for train_index, test_index in skf.split(train3p, train2p['target']):\n",
    "        test_index3 = test_index[ test_index<len(train2)] # ignore psuedo in oof\n",
    "        #print()\n",
    "        #MODEL AND PREDICT WITH QDA\n",
    "        clf = QuadraticDiscriminantAnalysis(reg_param=0.45) #best 0.8  0.96955481 0.3 0.96992156 0.11 0.96988311 0.5 0.96993603 0.55 0.9699333 0.45 0.96994102 0.4 0.96993985\n",
    "        clf.fit(train3p[train_index,:],train2p.loc[train_index]['target'])\n",
    "        oof_qdp[idx1[test_index3]] = clf.predict_proba(train3[test_index3,:])[:,1]\n",
    "        pred_te_qdp[test2.index] += clf.predict_proba(test3)[:,1] / skf.n_splits"
   ]
  },
  {
   "cell_type": "code",
   "execution_count": 33,
   "metadata": {},
   "outputs": [
    {
     "name": "stdout",
     "output_type": "stream",
     "text": [
      "Pseudo Labeled QDA scores CV = 0.96983357\n"
     ]
    }
   ],
   "source": [
    "auc = roc_auc_score(saved_targets,oof_qdp)\n",
    "print('Pseudo Labeled QDA scores CV =',round(auc,8)) "
   ]
  },
  {
   "cell_type": "code",
   "execution_count": 34,
   "metadata": {},
   "outputs": [
    {
     "data": {
      "application/vnd.jupyter.widget-view+json": {
       "model_id": "319c7fc36b3d4264ba2f5275592c3fa3",
       "version_major": 2,
       "version_minor": 0
      },
      "text/plain": [
       "HBox(children=(IntProgress(value=0, max=512), HTML(value='')))"
      ]
     },
     "metadata": {},
     "output_type": "display_data"
    }
   ],
   "source": [
    "#MLP this is with pseudo labeling\n",
    "# BUILD 512 SEPARATE MODELS\n",
    "saved_targets = train_clean['target']\n",
    "test[\"target\"] = pred\n",
    "oof_mlp = np.zeros(len(train_clean)) \n",
    "pred_te_mlp = np.zeros(len(test))\n",
    "for k in tqdm_notebook(range(512)):\n",
    "    # ONLY TRAIN WITH DATA WHERE WHEEZY EQUALS I\n",
    "    train2 = train_clean[train_clean['wheezy-copper-turtle-magic']==k] \n",
    "    train2p = train2.copy(); idx1 = train2.index \n",
    "    test2 = test[test['wheezy-copper-turtle-magic']==k]\n",
    "    #train_1.reset_index(drop=True,inplace=True)\n",
    "    # ADD PSEUDO LABEL DATA\n",
    "    test2p = test2[ (test2['target']<=0.2) | (test2['target']>=0.9) ].copy()#.9999 and 0.0001 gives 0.97046394\n",
    "    test2p.loc[ test2p['target']>=0.5, 'target' ] = 1\n",
    "    test2p.loc[ test2p['target']<0.5, 'target' ] = 0 \n",
    "    train2p = pd.concat([train2p,test2p],axis=0)\n",
    "    train2p.reset_index(drop=True,inplace=True)\n",
    "    \n",
    "    # FEATURE SELECTION (USE APPROX 40 OF 255 FEATURES)\n",
    "    sel = VarianceThreshold(threshold=1.5).fit(train2p[cols])     \n",
    "    train3p = sel.transform(train2p[cols])\n",
    "    train3 = sel.transform(train2[cols])\n",
    "    test3 = sel.transform(test2[cols])\n",
    "        \n",
    "    # STRATIFIED K FOLD\n",
    "    skf = StratifiedKFold(n_splits=11, random_state=42, shuffle=True)\n",
    "    for train_index, test_index in skf.split(train3p, train2p['target']):\n",
    "        test_index3 = test_index[ test_index<len(train2)] # ignore psuedo in oof\n",
    "        #print()\n",
    "        #MODEL AND PREDICT WITH QDA\n",
    "        clf = neural_network.MLPClassifier(solver='lbfgs',tol=1e-6,hidden_layer_sizes=(54,),random_state=42)\n",
    "        clf.fit(train3p[train_index,:],train2p.loc[train_index]['target'])\n",
    "        oof_mlp[idx1[test_index3]] = clf.predict_proba(train3[test_index3,:])[:,1]\n",
    "        pred_te_mlp[test2.index] += clf.predict_proba(test3)[:,1] / skf.n_splits"
   ]
  },
  {
   "cell_type": "code",
   "execution_count": 35,
   "metadata": {},
   "outputs": [
    {
     "name": "stdout",
     "output_type": "stream",
     "text": [
      "Pseudo Labeled MLP scores CV = 0.92219186\n"
     ]
    }
   ],
   "source": [
    "auc = roc_auc_score(saved_targets,oof_mlp)\n",
    "print('Pseudo Labeled MLP scores CV =',round(auc,8)) "
   ]
  },
  {
   "cell_type": "code",
   "execution_count": 45,
   "metadata": {},
   "outputs": [
    {
     "data": {
      "application/vnd.jupyter.widget-view+json": {
       "model_id": "4e04bea51d944ac5ac1aab4eec2ea071",
       "version_major": 2,
       "version_minor": 0
      },
      "text/plain": [
       "HBox(children=(IntProgress(value=0, max=512), HTML(value='')))"
      ]
     },
     "metadata": {},
     "output_type": "display_data"
    }
   ],
   "source": [
    "#QLR\n",
    "# BUILD 512 SEPARATE MODELS\n",
    "saved_targets = train_clean['target']\n",
    "test[\"target\"] = pred\n",
    "oof_qlr = np.zeros(len(train_clean)) \n",
    "pred_te_qlr = np.zeros(len(test))\n",
    "for k in tqdm_notebook(range(512)):\n",
    "    # ONLY TRAIN WITH DATA WHERE WHEEZY EQUALS I\n",
    "    train2 = train_clean[train_clean['wheezy-copper-turtle-magic']==k] \n",
    "    train2p = train2.copy(); idx1 = train2.index \n",
    "    test2 = test[test['wheezy-copper-turtle-magic']==k]\n",
    "    #train_1.reset_index(drop=True,inplace=True)\n",
    "    # ADD PSEUDO LABEL DATA\n",
    "    test2p = test2[ (test2['target']<=0.2) | (test2['target']>=0.9) ].copy()#.9999 and 0.0001 gives 0.97046394\n",
    "    test2p.loc[ test2p['target']>=0.5, 'target' ] = 1\n",
    "    test2p.loc[ test2p['target']<0.5, 'target' ] = 0 \n",
    "    train2p = pd.concat([train2p,test2p],axis=0)\n",
    "    train2p.reset_index(drop=True,inplace=True)\n",
    "    \n",
    "    # FEATURE SELECTION (USE APPROX 40 OF 255 FEATURES)\n",
    "    sel = VarianceThreshold(threshold=1.5).fit(train2p[cols])     \n",
    "    train3p = sel.transform(train2p[cols])\n",
    "    train3 = sel.transform(train2[cols])\n",
    "    test3 = sel.transform(test2[cols])\n",
    "    \n",
    "    #Quadriatic Linear regression\n",
    "    poly = PolynomialFeatures(degree=2).fit(train3p)\n",
    "    train3p = poly.transform(train3p)\n",
    "    train3 = poly.fit_transform(train3)\n",
    "    test3 = poly.transform(test3)\n",
    "   \n",
    "    # STRATIFIED K FOLD\n",
    "    skf = StratifiedKFold(n_splits=11, random_state=42, shuffle=True)\n",
    "    for train_index, test_index in skf.split(train3p, train2p['target']):\n",
    "        test_index3 = test_index[ test_index<len(train2)] # ignore psuedo in oof\n",
    "        #print()\n",
    "        #MODEL AND PREDICT WITH QDA\n",
    "        clf = LogisticRegression(solver='lbfgs',penalty='l2',C=0.0001,tol=0.0001)\n",
    "        clf.fit(train3p[train_index,:],train2p.loc[train_index]['target'])\n",
    "        oof_qlr[idx1[test_index3]] = clf.predict_proba(train3[test_index3,:])[:,1]\n",
    "        pred_te_qlr[test2.index] += clf.predict_proba(test3)[:,1] / skf.n_splits"
   ]
  },
  {
   "cell_type": "code",
   "execution_count": 46,
   "metadata": {},
   "outputs": [
    {
     "name": "stdout",
     "output_type": "stream",
     "text": [
      "Pseudo Labeled QLR scores CV = 0.95293564\n"
     ]
    }
   ],
   "source": [
    "auc = roc_auc_score(saved_targets,oof_qlr)\n",
    "print('Pseudo Labeled QLR scores CV =',round(auc,8)) "
   ]
  },
  {
   "cell_type": "code",
   "execution_count": 47,
   "metadata": {},
   "outputs": [
    {
     "data": {
      "application/vnd.jupyter.widget-view+json": {
       "model_id": "626fe99b2df148dfad205d14675ce1b0",
       "version_major": 2,
       "version_minor": 0
      },
      "text/plain": [
       "HBox(children=(IntProgress(value=0, max=512), HTML(value='')))"
      ]
     },
     "metadata": {},
     "output_type": "display_data"
    },
    {
     "ename": "KeyboardInterrupt",
     "evalue": "",
     "output_type": "error",
     "traceback": [
      "\u001b[1;31m---------------------------------------------------------------------------\u001b[0m",
      "\u001b[1;31mKeyboardInterrupt\u001b[0m                         Traceback (most recent call last)",
      "\u001b[1;32m<ipython-input-47-08d3edd8c4b6>\u001b[0m in \u001b[0;36m<module>\u001b[1;34m\u001b[0m\n\u001b[0;32m     20\u001b[0m \u001b[1;33m\u001b[0m\u001b[0m\n\u001b[0;32m     21\u001b[0m     \u001b[0mpca\u001b[0m \u001b[1;33m=\u001b[0m \u001b[0mPCA\u001b[0m\u001b[1;33m(\u001b[0m\u001b[0msvd_solver\u001b[0m\u001b[1;33m=\u001b[0m\u001b[1;34m'full'\u001b[0m\u001b[1;33m,\u001b[0m\u001b[0mn_components\u001b[0m\u001b[1;33m=\u001b[0m\u001b[1;34m'mle'\u001b[0m\u001b[1;33m)\u001b[0m\u001b[1;33m\u001b[0m\u001b[1;33m\u001b[0m\u001b[0m\n\u001b[1;32m---> 22\u001b[1;33m     \u001b[0mtrain3p\u001b[0m \u001b[1;33m=\u001b[0m \u001b[0mpca\u001b[0m\u001b[1;33m.\u001b[0m\u001b[0mfit_transform\u001b[0m\u001b[1;33m(\u001b[0m\u001b[0mtrain2p\u001b[0m\u001b[1;33m[\u001b[0m\u001b[0mcols\u001b[0m\u001b[1;33m]\u001b[0m\u001b[1;33m)\u001b[0m\u001b[1;33m\u001b[0m\u001b[1;33m\u001b[0m\u001b[0m\n\u001b[0m\u001b[0;32m     23\u001b[0m     \u001b[0mtrain3\u001b[0m \u001b[1;33m=\u001b[0m \u001b[0mpca\u001b[0m\u001b[1;33m.\u001b[0m\u001b[0mtransform\u001b[0m\u001b[1;33m(\u001b[0m\u001b[0mtrain2\u001b[0m\u001b[1;33m[\u001b[0m\u001b[0mcols\u001b[0m\u001b[1;33m]\u001b[0m\u001b[1;33m)\u001b[0m\u001b[1;33m\u001b[0m\u001b[1;33m\u001b[0m\u001b[0m\n\u001b[0;32m     24\u001b[0m     \u001b[0mtest3\u001b[0m \u001b[1;33m=\u001b[0m \u001b[0mpca\u001b[0m\u001b[1;33m.\u001b[0m\u001b[0mtransform\u001b[0m\u001b[1;33m(\u001b[0m\u001b[0mtest2\u001b[0m\u001b[1;33m[\u001b[0m\u001b[0mcols\u001b[0m\u001b[1;33m]\u001b[0m\u001b[1;33m)\u001b[0m\u001b[1;33m\u001b[0m\u001b[1;33m\u001b[0m\u001b[0m\n",
      "\u001b[1;32m~\\AppData\\Local\\Continuum\\anaconda3\\lib\\site-packages\\sklearn\\decomposition\\pca.py\u001b[0m in \u001b[0;36mfit_transform\u001b[1;34m(self, X, y)\u001b[0m\n\u001b[0;32m    357\u001b[0m \u001b[1;33m\u001b[0m\u001b[0m\n\u001b[0;32m    358\u001b[0m         \"\"\"\n\u001b[1;32m--> 359\u001b[1;33m         \u001b[0mU\u001b[0m\u001b[1;33m,\u001b[0m \u001b[0mS\u001b[0m\u001b[1;33m,\u001b[0m \u001b[0mV\u001b[0m \u001b[1;33m=\u001b[0m \u001b[0mself\u001b[0m\u001b[1;33m.\u001b[0m\u001b[0m_fit\u001b[0m\u001b[1;33m(\u001b[0m\u001b[0mX\u001b[0m\u001b[1;33m)\u001b[0m\u001b[1;33m\u001b[0m\u001b[1;33m\u001b[0m\u001b[0m\n\u001b[0m\u001b[0;32m    360\u001b[0m         \u001b[0mU\u001b[0m \u001b[1;33m=\u001b[0m \u001b[0mU\u001b[0m\u001b[1;33m[\u001b[0m\u001b[1;33m:\u001b[0m\u001b[1;33m,\u001b[0m \u001b[1;33m:\u001b[0m\u001b[0mself\u001b[0m\u001b[1;33m.\u001b[0m\u001b[0mn_components_\u001b[0m\u001b[1;33m]\u001b[0m\u001b[1;33m\u001b[0m\u001b[1;33m\u001b[0m\u001b[0m\n\u001b[0;32m    361\u001b[0m \u001b[1;33m\u001b[0m\u001b[0m\n",
      "\u001b[1;32m~\\AppData\\Local\\Continuum\\anaconda3\\lib\\site-packages\\sklearn\\decomposition\\pca.py\u001b[0m in \u001b[0;36m_fit\u001b[1;34m(self, X)\u001b[0m\n\u001b[0;32m    404\u001b[0m         \u001b[1;31m# Call different fits for either full or truncated SVD\u001b[0m\u001b[1;33m\u001b[0m\u001b[1;33m\u001b[0m\u001b[1;33m\u001b[0m\u001b[0m\n\u001b[0;32m    405\u001b[0m         \u001b[1;32mif\u001b[0m \u001b[0mself\u001b[0m\u001b[1;33m.\u001b[0m\u001b[0m_fit_svd_solver\u001b[0m \u001b[1;33m==\u001b[0m \u001b[1;34m'full'\u001b[0m\u001b[1;33m:\u001b[0m\u001b[1;33m\u001b[0m\u001b[1;33m\u001b[0m\u001b[0m\n\u001b[1;32m--> 406\u001b[1;33m             \u001b[1;32mreturn\u001b[0m \u001b[0mself\u001b[0m\u001b[1;33m.\u001b[0m\u001b[0m_fit_full\u001b[0m\u001b[1;33m(\u001b[0m\u001b[0mX\u001b[0m\u001b[1;33m,\u001b[0m \u001b[0mn_components\u001b[0m\u001b[1;33m)\u001b[0m\u001b[1;33m\u001b[0m\u001b[1;33m\u001b[0m\u001b[0m\n\u001b[0m\u001b[0;32m    407\u001b[0m         \u001b[1;32melif\u001b[0m \u001b[0mself\u001b[0m\u001b[1;33m.\u001b[0m\u001b[0m_fit_svd_solver\u001b[0m \u001b[1;32min\u001b[0m \u001b[1;33m[\u001b[0m\u001b[1;34m'arpack'\u001b[0m\u001b[1;33m,\u001b[0m \u001b[1;34m'randomized'\u001b[0m\u001b[1;33m]\u001b[0m\u001b[1;33m:\u001b[0m\u001b[1;33m\u001b[0m\u001b[1;33m\u001b[0m\u001b[0m\n\u001b[0;32m    408\u001b[0m             \u001b[1;32mreturn\u001b[0m \u001b[0mself\u001b[0m\u001b[1;33m.\u001b[0m\u001b[0m_fit_truncated\u001b[0m\u001b[1;33m(\u001b[0m\u001b[0mX\u001b[0m\u001b[1;33m,\u001b[0m \u001b[0mn_components\u001b[0m\u001b[1;33m,\u001b[0m \u001b[0mself\u001b[0m\u001b[1;33m.\u001b[0m\u001b[0m_fit_svd_solver\u001b[0m\u001b[1;33m)\u001b[0m\u001b[1;33m\u001b[0m\u001b[1;33m\u001b[0m\u001b[0m\n",
      "\u001b[1;32m~\\AppData\\Local\\Continuum\\anaconda3\\lib\\site-packages\\sklearn\\decomposition\\pca.py\u001b[0m in \u001b[0;36m_fit_full\u001b[1;34m(self, X, n_components)\u001b[0m\n\u001b[0;32m    450\u001b[0m         \u001b[1;32mif\u001b[0m \u001b[0mn_components\u001b[0m \u001b[1;33m==\u001b[0m \u001b[1;34m'mle'\u001b[0m\u001b[1;33m:\u001b[0m\u001b[1;33m\u001b[0m\u001b[1;33m\u001b[0m\u001b[0m\n\u001b[0;32m    451\u001b[0m             \u001b[0mn_components\u001b[0m \u001b[1;33m=\u001b[0m\u001b[0;31m \u001b[0m\u001b[0;31m\\\u001b[0m\u001b[1;33m\u001b[0m\u001b[1;33m\u001b[0m\u001b[0m\n\u001b[1;32m--> 452\u001b[1;33m                 \u001b[0m_infer_dimension_\u001b[0m\u001b[1;33m(\u001b[0m\u001b[0mexplained_variance_\u001b[0m\u001b[1;33m,\u001b[0m \u001b[0mn_samples\u001b[0m\u001b[1;33m,\u001b[0m \u001b[0mn_features\u001b[0m\u001b[1;33m)\u001b[0m\u001b[1;33m\u001b[0m\u001b[1;33m\u001b[0m\u001b[0m\n\u001b[0m\u001b[0;32m    453\u001b[0m         \u001b[1;32melif\u001b[0m \u001b[1;36m0\u001b[0m \u001b[1;33m<\u001b[0m \u001b[0mn_components\u001b[0m \u001b[1;33m<\u001b[0m \u001b[1;36m1.0\u001b[0m\u001b[1;33m:\u001b[0m\u001b[1;33m\u001b[0m\u001b[1;33m\u001b[0m\u001b[0m\n\u001b[0;32m    454\u001b[0m             \u001b[1;31m# number of components for which the cumulated explained\u001b[0m\u001b[1;33m\u001b[0m\u001b[1;33m\u001b[0m\u001b[1;33m\u001b[0m\u001b[0m\n",
      "\u001b[1;32m~\\AppData\\Local\\Continuum\\anaconda3\\lib\\site-packages\\sklearn\\decomposition\\pca.py\u001b[0m in \u001b[0;36m_infer_dimension_\u001b[1;34m(spectrum, n_samples, n_features)\u001b[0m\n\u001b[0;32m    100\u001b[0m     \u001b[0mll\u001b[0m \u001b[1;33m=\u001b[0m \u001b[0mnp\u001b[0m\u001b[1;33m.\u001b[0m\u001b[0mempty\u001b[0m\u001b[1;33m(\u001b[0m\u001b[0mn_spectrum\u001b[0m\u001b[1;33m)\u001b[0m\u001b[1;33m\u001b[0m\u001b[1;33m\u001b[0m\u001b[0m\n\u001b[0;32m    101\u001b[0m     \u001b[1;32mfor\u001b[0m \u001b[0mrank\u001b[0m \u001b[1;32min\u001b[0m \u001b[0mrange\u001b[0m\u001b[1;33m(\u001b[0m\u001b[0mn_spectrum\u001b[0m\u001b[1;33m)\u001b[0m\u001b[1;33m:\u001b[0m\u001b[1;33m\u001b[0m\u001b[1;33m\u001b[0m\u001b[0m\n\u001b[1;32m--> 102\u001b[1;33m         \u001b[0mll\u001b[0m\u001b[1;33m[\u001b[0m\u001b[0mrank\u001b[0m\u001b[1;33m]\u001b[0m \u001b[1;33m=\u001b[0m \u001b[0m_assess_dimension_\u001b[0m\u001b[1;33m(\u001b[0m\u001b[0mspectrum\u001b[0m\u001b[1;33m,\u001b[0m \u001b[0mrank\u001b[0m\u001b[1;33m,\u001b[0m \u001b[0mn_samples\u001b[0m\u001b[1;33m,\u001b[0m \u001b[0mn_features\u001b[0m\u001b[1;33m)\u001b[0m\u001b[1;33m\u001b[0m\u001b[1;33m\u001b[0m\u001b[0m\n\u001b[0m\u001b[0;32m    103\u001b[0m     \u001b[1;32mreturn\u001b[0m \u001b[0mll\u001b[0m\u001b[1;33m.\u001b[0m\u001b[0margmax\u001b[0m\u001b[1;33m(\u001b[0m\u001b[1;33m)\u001b[0m\u001b[1;33m\u001b[0m\u001b[1;33m\u001b[0m\u001b[0m\n\u001b[0;32m    104\u001b[0m \u001b[1;33m\u001b[0m\u001b[0m\n",
      "\u001b[1;32m~\\AppData\\Local\\Continuum\\anaconda3\\lib\\site-packages\\sklearn\\decomposition\\pca.py\u001b[0m in \u001b[0;36m_assess_dimension_\u001b[1;34m(spectrum, rank, n_samples, n_features)\u001b[0m\n\u001b[0;32m     85\u001b[0m         \u001b[1;32mfor\u001b[0m \u001b[0mj\u001b[0m \u001b[1;32min\u001b[0m \u001b[0mrange\u001b[0m\u001b[1;33m(\u001b[0m\u001b[0mi\u001b[0m \u001b[1;33m+\u001b[0m \u001b[1;36m1\u001b[0m\u001b[1;33m,\u001b[0m \u001b[0mlen\u001b[0m\u001b[1;33m(\u001b[0m\u001b[0mspectrum\u001b[0m\u001b[1;33m)\u001b[0m\u001b[1;33m)\u001b[0m\u001b[1;33m:\u001b[0m\u001b[1;33m\u001b[0m\u001b[1;33m\u001b[0m\u001b[0m\n\u001b[0;32m     86\u001b[0m             pa += log((spectrum[i] - spectrum[j]) *\n\u001b[1;32m---> 87\u001b[1;33m                       (1. / spectrum_[j] - 1. / spectrum_[i])) + log(n_samples)\n\u001b[0m\u001b[0;32m     88\u001b[0m \u001b[1;33m\u001b[0m\u001b[0m\n\u001b[0;32m     89\u001b[0m     \u001b[0mll\u001b[0m \u001b[1;33m=\u001b[0m \u001b[0mpu\u001b[0m \u001b[1;33m+\u001b[0m \u001b[0mpl\u001b[0m \u001b[1;33m+\u001b[0m \u001b[0mpv\u001b[0m \u001b[1;33m+\u001b[0m \u001b[0mpp\u001b[0m \u001b[1;33m-\u001b[0m \u001b[0mpa\u001b[0m \u001b[1;33m/\u001b[0m \u001b[1;36m2.\u001b[0m \u001b[1;33m-\u001b[0m \u001b[0mrank\u001b[0m \u001b[1;33m*\u001b[0m \u001b[0mlog\u001b[0m\u001b[1;33m(\u001b[0m\u001b[0mn_samples\u001b[0m\u001b[1;33m)\u001b[0m \u001b[1;33m/\u001b[0m \u001b[1;36m2.\u001b[0m\u001b[1;33m\u001b[0m\u001b[1;33m\u001b[0m\u001b[0m\n",
      "\u001b[1;31mKeyboardInterrupt\u001b[0m: "
     ]
    }
   ],
   "source": [
    "#NuSVM\n",
    "#MLP this is with pseudo labeling\n",
    "# BUILD 512 SEPARATE MODELS\n",
    "saved_targets = train_clean['target']\n",
    "test[\"target\"] = pred\n",
    "oof_svnu = np.zeros(len(train_clean)) \n",
    "pred_te_svnu = np.zeros(len(test))\n",
    "for k in tqdm_notebook(range(512)):\n",
    "    # ONLY TRAIN WITH DATA WHERE WHEEZY EQUALS I\n",
    "    train2 = train_clean[train_clean['wheezy-copper-turtle-magic']==k] \n",
    "    train2p = train2.copy(); idx1 = train2.index \n",
    "    test2 = test[test['wheezy-copper-turtle-magic']==k]\n",
    "    #train_1.reset_index(drop=True,inplace=True)\n",
    "    # ADD PSEUDO LABEL DATA\n",
    "    test2p = test2[ (test2['target']<=0.2) | (test2['target']>=0.9) ].copy()#.9999 and 0.0001 gives 0.97046394\n",
    "    test2p.loc[ test2p['target']>=0.5, 'target' ] = 1\n",
    "    test2p.loc[ test2p['target']<0.5, 'target' ] = 0 \n",
    "    train2p = pd.concat([train2p,test2p],axis=0)\n",
    "    train2p.reset_index(drop=True,inplace=True)\n",
    "    \n",
    "    pca = PCA(svd_solver='full',n_components='mle')\n",
    "    train3p = pca.fit_transform(train2p[cols])\n",
    "    train3 = pca.transform(train2[cols])\n",
    "    test3 = pca.transform(test2[cols])\n",
    "    \n",
    "    scale = StandardScaler()\n",
    "    train3p = scale.fit_transform(train3p)\n",
    "    train3 = scale.transform(train3)\n",
    "    test3 =  scale.transform(test3)\n",
    "        \n",
    "    # STRATIFIED K FOLD\n",
    "    skf = StratifiedKFold(n_splits=11, random_state=42, shuffle=True)\n",
    "    for train_index, test_index in skf.split(train3p, train2p['target']):\n",
    "        test_index3 = test_index[ test_index<len(train2)] # ignore psuedo in oof\n",
    "        #print()\n",
    "        #MODEL AND PREDICT WITH QDA\n",
    "        clf = NuSVC(.5,'poly',4,'auto',0.05,0,1,0.00001)\n",
    "        clf.fit(train3p[train_index,:],train2p.loc[train_index]['target'])\n",
    "        oof_svnu[idx1[test_index3]] = clf.predict_proba(train3[test_index3,:])[:,1]\n",
    "        pred_te_svnu[test2.index] += clf.predict_proba(test3)[:,1] / skf.n_splits"
   ]
  },
  {
   "cell_type": "code",
   "execution_count": null,
   "metadata": {},
   "outputs": [],
   "source": [
    "auc = roc_auc_score(saved_targets,oof_svnu)\n",
    "print('Pseudo Labeled SVNU scores CV =',round(auc,8)) "
   ]
  },
  {
   "cell_type": "code",
   "execution_count": null,
   "metadata": {},
   "outputs": [],
   "source": [
    "#SVC\n",
    "#MLP this is with pseudo labeling\n",
    "# BUILD 512 SEPARATE MODELS\n",
    "saved_targets = train_clean['target']\n",
    "test[\"target\"] = pred\n",
    "oof_svc = np.zeros(len(train_clean)) \n",
    "pred_te_svc = np.zeros(len(test))\n",
    "for k in tqdm_notebook(range(512)):\n",
    "    # ONLY TRAIN WITH DATA WHERE WHEEZY EQUALS I\n",
    "    train2 = train_clean[train_clean['wheezy-copper-turtle-magic']==k] \n",
    "    train2p = train2.copy(); idx1 = train2.index \n",
    "    test2 = test[test['wheezy-copper-turtle-magic']==k]\n",
    "    #train_1.reset_index(drop=True,inplace=True)\n",
    "    # ADD PSEUDO LABEL DATA\n",
    "    test2p = test2[ (test2['target']<=0.2) | (test2['target']>=0.9) ].copy()#.9999 and 0.0001 gives 0.97046394\n",
    "    test2p.loc[ test2p['target']>=0.5, 'target' ] = 1\n",
    "    test2p.loc[ test2p['target']<0.5, 'target' ] = 0 \n",
    "    train2p = pd.concat([train2p,test2p],axis=0)\n",
    "    train2p.reset_index(drop=True,inplace=True)\n",
    "    \n",
    "    pca = PCA(svd_solver='full',n_components='mle')\n",
    "    train3p = pca.fit_transform(train2p[cols])\n",
    "    train3 = pca.transform(train2[cols])\n",
    "    test3 = pca.transform(test2[cols])\n",
    "    \n",
    "    scale = StandardScaler()\n",
    "    train3p = scale.fit_transform(train3p)\n",
    "    train3 = scale.transform(train3)\n",
    "    test3 =  scale.transform(test3)\n",
    "        \n",
    "    # STRATIFIED K FOLD\n",
    "    skf = StratifiedKFold(n_splits=11, random_state=42, shuffle=True)\n",
    "    for train_index, test_index in skf.split(train3p, train2p['target']):\n",
    "        test_index3 = test_index[ test_index<len(train2)] # ignore psuedo in oof\n",
    "        #print()\n",
    "        #MODEL AND PREDICT WITH QDA\n",
    "        clf = svm.SVC(probability=True, kernel='poly', degree=4, gamma='auto', random_state=42)\n",
    "        clf.fit(train3p[train_index,:],train2p.loc[train_index]['target'])\n",
    "        oof_svc[idx1[test_index3]] = clf.predict_proba(train3[test_index3,:])[:,1]\n",
    "        pred_te_svc[test2.index] += clf.predict_proba(test3)[:,1] / skf.n_splits"
   ]
  },
  {
   "cell_type": "code",
   "execution_count": null,
   "metadata": {},
   "outputs": [],
   "source": [
    "auc = roc_auc_score(saved_targets,oof_svc)\n",
    "print('Pseudo Labeled SVNU scores CV =',round(auc,8)) "
   ]
  },
  {
   "cell_type": "code",
   "execution_count": 41,
   "metadata": {},
   "outputs": [
    {
     "data": {
      "application/vnd.jupyter.widget-view+json": {
       "model_id": "9e14c491c420415e87db2b7f2fd8aab5",
       "version_major": 2,
       "version_minor": 0
      },
      "text/plain": [
       "HBox(children=(IntProgress(value=0, max=512), HTML(value='')))"
      ]
     },
     "metadata": {},
     "output_type": "display_data"
    },
    {
     "name": "stdout",
     "output_type": "stream",
     "text": [
      "CV for LabelSpreading = 0.94360835\n"
     ]
    }
   ],
   "source": [
    "#LabelSpreading\n",
    "# BUILD 512 SEPARATE MODELS\n",
    "saved_targets = train_clean['target']\n",
    "test[\"target\"] = pred\n",
    "oof_ls = np.zeros(len(train_clean)) \n",
    "pred_te_ls = np.zeros(len(test))\n",
    "for k in tqdm_notebook(range(512)):\n",
    "    train2 = train_clean[train_clean['wheezy-copper-turtle-magic']==k] \n",
    "    train2p = train2.copy(); idx1 = train2.index \n",
    "    test2 = test[test['wheezy-copper-turtle-magic']==k]\n",
    "    \n",
    "    test2p = test2[ (test2['target']<=0.2) | (test2['target']>=0.9) ].copy()\n",
    "    test2p.loc[ test2p['target']>=0.5, 'target' ] = 1\n",
    "    test2p.loc[ test2p['target']<0.5, 'target' ] = 0 \n",
    "    train2p = pd.concat([train2p,test2p],axis=0)\n",
    "    train2p.reset_index(drop=True,inplace=True)\n",
    "    \n",
    "    test2[\"target\"] = -1\n",
    "    #merging train2p with full test\n",
    "    train3p = pd.concat([train2p,test2],axis=0)\n",
    "    train3p.reset_index(drop=True,inplace=True)\n",
    "\n",
    "    sel = VarianceThreshold(threshold=1.5).fit(train3p[cols])     \n",
    "    train4p = sel.transform(train3p[cols])\n",
    "    train4 = sel.transform(train2[cols])\n",
    "    test4 = sel.transform(test2[cols])\n",
    "    \n",
    "    skf = StratifiedKFold(n_splits=25, random_state=42, shuffle=True)\n",
    "    for train_index, test_index in skf.split(train4p, train3p['target']):\n",
    "        test_index3 = test_index[ test_index<len(train4) ]        \n",
    "        clf = LabelSpreading(gamma=0.01,kernel='rbf', max_iter=10)\n",
    "        clf.fit(train4p[train_index,:],train3p.loc[train_index]['target'])\n",
    "        oof_ls[idx1[test_index3]] = clf.predict_proba(train4[test_index3,:])[:,1]\n",
    "        pred_te_ls[test2.index] += clf.predict_proba(test4)[:,1] / skf.n_splits\n",
    "auc = roc_auc_score(saved_targets,oof_ls)\n",
    "print('CV for LabelSpreading =',round(auc,8)) "
   ]
  },
  {
   "cell_type": "code",
   "execution_count": null,
   "metadata": {},
   "outputs": [],
   "source": [
    "# PRINT CV AUC GM\n",
    "auc = roc_auc_score(saved_targets,oof_gm)\n",
    "print('GaussianMixture scores CV =',round(auc,8))\n",
    "\n",
    "# PRINT CV QDP\n",
    "oof = oof_qdp\n",
    "oof_scaled = (oof-np.amin(oof))/(np.amax(oof)-np.amin(oof))\n",
    "auc = roc_auc_score(saved_targets,oof_qdp)\n",
    "print('Pseudo Labeled QDA scores CV =',round(auc,8)) \n",
    "\n",
    "auc = roc_auc_score(saved_targets,oof_ls)\n",
    "print('CV for LabelSpreading =',round(auc,8)) \n",
    "\n",
    "auc = roc_auc_score(saved_targets,oof_svnu)\n",
    "print('CV for SVNU =',round(auc,8)) "
   ]
  },
  {
   "cell_type": "code",
   "execution_count": 51,
   "metadata": {},
   "outputs": [
    {
     "name": "stdout",
     "output_type": "stream",
     "text": [
      "mdl score =  0.8060553128998684\n",
      "gm Coeff = 0.00431 qdp Coeff = 0.71607 mlp Coeff = 0.02538 qlr Coeff = 0.06687 svnu Coeff = 0.02587 svc Coeff = 0.0 ls Coeff = 0.16149\n"
     ]
    }
   ],
   "source": [
    "#BLENDING\n",
    "#oof outside blend\n",
    "y = train_clean['target']\n",
    "X = []\n",
    "X.append(oof_gm.reshape(1,-1)[0])\n",
    "X.append(oof_qdp.reshape(1,-1)[0])\n",
    "X.append(oof_mlp.reshape(1,-1)[0])\n",
    "X.append(oof_qlr.reshape(1,-1)[0])\n",
    "X.append(oof_svnu.reshape(1,-1)[0])\n",
    "X.append(oof_svc.reshape(1,-1)[0])\n",
    "X.append(oof_ls.reshape(1,-1)[0])\n",
    "X = pd.DataFrame(X).transpose().copy()\n",
    "mdl = LinearRegression()\n",
    "mdl.fit(X,y) \n",
    "print(\"mdl score = \",mdl.score(X,y))\n",
    "\n",
    "gm_coef = round(mdl.coef_[0]/sum(mdl.coef_),5)\n",
    "qdp_coef = round(mdl.coef_[1]/sum(mdl.coef_),5)\n",
    "mlp_coef = round(mdl.coef_[2]/sum(mdl.coef_),5)\n",
    "qlr_coef = round(mdl.coef_[3]/sum(mdl.coef_),5)\n",
    "svnu_coef = round(mdl.coef_[4]/sum(mdl.coef_),5)  \n",
    "svc_coef = round(mdl.coef_[5]/sum(mdl.coef_),5)  \n",
    "ls_coef = round(mdl.coef_[6]/sum(mdl.coef_),5)  \n",
    "\n",
    "print(\"gm Coeff = {} qdp Coeff = {} mlp Coeff = {} qlr Coeff = {} svnu Coeff = {} svc Coeff = {} ls Coeff = {}\"\n",
    "      .format(gm_coef,qdp_coef,mlp_coef,qlr_coef,svnu_coef,svc_coef,ls_coef))\n",
    "\n",
    "oof_outside_blend = oof_gm*gm_coef + oof_qdp*qdp_coef + oof_mlp*mlp_coef + oof_qlr*qlr_coef + oof_svnu*svnu_coef + oof_svc*svc_coef + oof_ls*ls_coef\n",
    "\n",
    "pred_te_outside_blend = pred_te_gm*gm_coef + pred_te_qdp*qdp_coef + pred_te_mlp*mlp_coef + pred_te_qlr*qlr_coef + pred_te_svnu*svnu_coef + pred_te_svc*svc_coef + pred_te_ls*ls_coef"
   ]
  },
  {
   "cell_type": "code",
   "execution_count": 56,
   "metadata": {},
   "outputs": [
    {
     "name": "stdout",
     "output_type": "stream",
     "text": [
      "(255696, 7) (131073, 7)\n"
     ]
    }
   ],
   "source": [
    "#STACKING\n",
    "oof_stack_lgb = np.zeros(len(train_clean))\n",
    "pred_te_stack_lgb = np.zeros(len(test))\n",
    "\n",
    "oof_gm = oof_gm.reshape(-1, 1)\n",
    "pred_te_gm = pred_te_gm.reshape(-1, 1)\n",
    "oof_qdp = oof_qdp.reshape(-1, 1)\n",
    "pred_te_qdp = pred_te_qdp.reshape(-1, 1)\n",
    "oof_mlp = oof_mlp.reshape(-1, 1)\n",
    "pred_te_mlp = pred_te_mlp.reshape(-1, 1)\n",
    "oof_qlr = oof_qlr.reshape(-1, 1)\n",
    "pred_te_qlr = pred_te_qlr.reshape(-1, 1)\n",
    "oof_svnu = oof_svnu.reshape(-1, 1)\n",
    "pred_te_svnu = pred_te_svnu.reshape(-1, 1)\n",
    "oof_svc = oof_svc.reshape(-1, 1)\n",
    "pred_te_svc = pred_te_svc.reshape(-1, 1)\n",
    "oof_ls = oof_ls.reshape(-1, 1)\n",
    "pred_te_ls = pred_te_ls.reshape(-1, 1)\n",
    "\n",
    "tr = np.concatenate((oof_gm, oof_qdp, oof_mlp,oof_qlr,oof_svnu,oof_svc,oof_ls), axis=1)\n",
    "te = np.concatenate((pred_te_gm, pred_te_qdp, pred_te_mlp,pred_te_qlr,pred_te_svnu,pred_te_svc,pred_te_ls), axis=1)\n",
    "print(tr.shape, te.shape)\n",
    "\n",
    "#scale = StandardScaler()\n",
    "#tr = scale.fit_transform(tr)\n",
    "#te = scale.transform(te)\n",
    "\n",
    "skf = StratifiedKFold(n_splits=5, random_state=42)\n",
    "\n",
    "for train_index, test_index in skf.split(tr,train_clean['target']):\n",
    "    lrr = linear_model.LogisticRegression(solver='lbfgs') # solver='liblinear',penalty='l1',C=0.1\n",
    "    lrr.fit(tr[train_index],train_clean['target'][train_index])\n",
    "    oof_stack[test_index] = lrr.predict_proba(tr[test_index,:])[:,1]\n",
    "    pred_te_stack += lrr.predict_proba(te)[:,1] / skf.n_splits\n",
    "    \n",
    "    model = lgb.LGBMClassifier(objective = 'binary',min_data_in_leaf=5,n_jobs=-1,metric='auc',learning_rate=0.1,num_leaves=15,\n",
    "                              feature_fraction=1.0,lambda_l1=15,min_sum_hessian_in_leaf=7)\n",
    "    model.fit(tr[train_index],train_clean['target'][train_index])\n",
    "    oof_stack_lgb[test_index] = model.predict_proba(tr[test_index,:])[:,1]\n",
    "    pred_te_stack_lgb += model.predict_proba(te)[:,1] / skf.n_splits\n",
    "\n",
    "iso = IsotonicRegression(y_min=0, y_max=1,out_of_bounds='clip')\n",
    "iso.fit(oof_stack_lgb,train_clean['target'].values)\n",
    "isooof = iso.transform(oof_stack_lgb)\n",
    "isopreds = iso.transform(pred_te_stack_lgb)"
   ]
  },
  {
   "cell_type": "code",
   "execution_count": null,
   "metadata": {},
   "outputs": [],
   "source": [
    "pd.DataFrame(isopreds).describe()"
   ]
  },
  {
   "cell_type": "code",
   "execution_count": null,
   "metadata": {},
   "outputs": [],
   "source": [
    "auc = roc_auc_score(saved_targets,oof_stack)\n",
    "print('CV for LR Stacking =',round(auc,8)) \n",
    "\n",
    "auc = roc_auc_score(saved_targets,oof_stack_lgb)\n",
    "print('CV for LR Stacking LGB =',round(auc,8)) \n",
    "\n",
    "auc = roc_auc_score(saved_targets,isooof)\n",
    "print('CV for ISO Preds =',round(auc,8)) "
   ]
  },
  {
   "cell_type": "code",
   "execution_count": null,
   "metadata": {},
   "outputs": [],
   "source": [
    "auc = roc_auc_score(saved_targets,oof_stack)\n",
    "print('CV for LR Stacking =',round(auc,8)) \n",
    "\n",
    "auc = roc_auc_score(saved_targets,oof_stack_lgb)\n",
    "print('CV for LR Stacking =',round(auc,8))  0.97189459"
   ]
  },
  {
   "cell_type": "code",
   "execution_count": null,
   "metadata": {},
   "outputs": [],
   "source": [
    "'''\n",
    "default QDA scores CV = 0.96878\n",
    "QDA scores CV = 0.96814\n",
    "0.9677\n",
    "'''"
   ]
  },
  {
   "cell_type": "code",
   "execution_count": null,
   "metadata": {},
   "outputs": [],
   "source": []
  },
  {
   "cell_type": "code",
   "execution_count": null,
   "metadata": {},
   "outputs": [],
   "source": []
  },
  {
   "cell_type": "code",
   "execution_count": null,
   "metadata": {},
   "outputs": [],
   "source": []
  },
  {
   "cell_type": "code",
   "execution_count": null,
   "metadata": {},
   "outputs": [],
   "source": []
  },
  {
   "cell_type": "code",
   "execution_count": null,
   "metadata": {},
   "outputs": [],
   "source": []
  },
  {
   "cell_type": "code",
   "execution_count": null,
   "metadata": {},
   "outputs": [],
   "source": []
  },
  {
   "cell_type": "code",
   "execution_count": null,
   "metadata": {},
   "outputs": [],
   "source": []
  },
  {
   "cell_type": "code",
   "execution_count": null,
   "metadata": {},
   "outputs": [],
   "source": []
  },
  {
   "cell_type": "code",
   "execution_count": null,
   "metadata": {},
   "outputs": [],
   "source": []
  },
  {
   "cell_type": "code",
   "execution_count": null,
   "metadata": {},
   "outputs": [],
   "source": []
  },
  {
   "cell_type": "code",
   "execution_count": null,
   "metadata": {},
   "outputs": [],
   "source": []
  },
  {
   "cell_type": "code",
   "execution_count": null,
   "metadata": {},
   "outputs": [],
   "source": []
  },
  {
   "cell_type": "code",
   "execution_count": null,
   "metadata": {},
   "outputs": [],
   "source": []
  },
  {
   "cell_type": "code",
   "execution_count": null,
   "metadata": {},
   "outputs": [],
   "source": []
  },
  {
   "cell_type": "code",
   "execution_count": null,
   "metadata": {},
   "outputs": [],
   "source": []
  },
  {
   "cell_type": "code",
   "execution_count": null,
   "metadata": {},
   "outputs": [],
   "source": []
  },
  {
   "cell_type": "code",
   "execution_count": null,
   "metadata": {},
   "outputs": [],
   "source": []
  },
  {
   "cell_type": "code",
   "execution_count": null,
   "metadata": {},
   "outputs": [],
   "source": []
  },
  {
   "cell_type": "code",
   "execution_count": null,
   "metadata": {},
   "outputs": [],
   "source": []
  },
  {
   "cell_type": "code",
   "execution_count": null,
   "metadata": {},
   "outputs": [],
   "source": []
  },
  {
   "cell_type": "code",
   "execution_count": null,
   "metadata": {},
   "outputs": [],
   "source": []
  },
  {
   "cell_type": "code",
   "execution_count": null,
   "metadata": {},
   "outputs": [],
   "source": []
  },
  {
   "cell_type": "code",
   "execution_count": null,
   "metadata": {},
   "outputs": [],
   "source": []
  },
  {
   "cell_type": "code",
   "execution_count": null,
   "metadata": {},
   "outputs": [],
   "source": []
  },
  {
   "cell_type": "code",
   "execution_count": null,
   "metadata": {},
   "outputs": [],
   "source": []
  },
  {
   "cell_type": "code",
   "execution_count": null,
   "metadata": {},
   "outputs": [],
   "source": []
  },
  {
   "cell_type": "code",
   "execution_count": null,
   "metadata": {},
   "outputs": [],
   "source": []
  },
  {
   "cell_type": "code",
   "execution_count": null,
   "metadata": {},
   "outputs": [],
   "source": []
  },
  {
   "cell_type": "code",
   "execution_count": null,
   "metadata": {},
   "outputs": [],
   "source": []
  },
  {
   "cell_type": "code",
   "execution_count": null,
   "metadata": {},
   "outputs": [],
   "source": []
  },
  {
   "cell_type": "code",
   "execution_count": null,
   "metadata": {},
   "outputs": [],
   "source": []
  },
  {
   "cell_type": "code",
   "execution_count": null,
   "metadata": {},
   "outputs": [],
   "source": []
  },
  {
   "cell_type": "code",
   "execution_count": null,
   "metadata": {},
   "outputs": [],
   "source": []
  },
  {
   "cell_type": "code",
   "execution_count": null,
   "metadata": {},
   "outputs": [],
   "source": []
  },
  {
   "cell_type": "code",
   "execution_count": null,
   "metadata": {},
   "outputs": [],
   "source": []
  },
  {
   "cell_type": "code",
   "execution_count": null,
   "metadata": {},
   "outputs": [],
   "source": []
  },
  {
   "cell_type": "code",
   "execution_count": null,
   "metadata": {},
   "outputs": [],
   "source": []
  },
  {
   "cell_type": "code",
   "execution_count": null,
   "metadata": {},
   "outputs": [],
   "source": []
  }
 ],
 "metadata": {
  "kernelspec": {
   "display_name": "Python 3",
   "language": "python",
   "name": "python3"
  },
  "language_info": {
   "codemirror_mode": {
    "name": "ipython",
    "version": 3
   },
   "file_extension": ".py",
   "mimetype": "text/x-python",
   "name": "python",
   "nbconvert_exporter": "python",
   "pygments_lexer": "ipython3",
   "version": "3.7.1"
  }
 },
 "nbformat": 4,
 "nbformat_minor": 2
}
